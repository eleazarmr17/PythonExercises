{
 "cells": [
  {
   "cell_type": "markdown",
   "metadata": {},
   "source": [
    "# Python laboratory: break(), pass(), and continue()"
   ]
  },
  {
   "cell_type": "markdown",
   "metadata": {},
   "source": [
    "## Exercise 1: Numeric data validation"
   ]
  },
  {
   "cell_type": "markdown",
   "metadata": {},
   "source": [
    "Write a loop that read a list of numbers and stop if it finds a negative value. Show a message with the negative number that it found"
   ]
  },
  {
   "cell_type": "code",
   "execution_count": 6,
   "metadata": {},
   "outputs": [
    {
     "name": "stdout",
     "output_type": "stream",
     "text": [
      "We found a negative value -7\n"
     ]
    }
   ],
   "source": [
    "list_numbers = [1,2,3,-7,9,10]\n",
    "for i in list_numbers:\n",
    "    if i >= 0:\n",
    "        pass\n",
    "    else:\n",
    "        print('We found a negative value', i)\n",
    "        break\n",
    "        print('if the loop show this message, something is bad in the code')"
   ]
  },
  {
   "cell_type": "markdown",
   "metadata": {},
   "source": [
    "## Exercise 2: Data filtering"
   ]
  },
  {
   "cell_type": "markdown",
   "metadata": {},
   "source": [
    "Write a loop that print the numbers of a list without the even numbers"
   ]
  },
  {
   "cell_type": "code",
   "execution_count": 7,
   "metadata": {},
   "outputs": [
    {
     "name": "stdout",
     "output_type": "stream",
     "text": [
      "The list without the even numbers is  [1, 3, 7, 9]\n"
     ]
    }
   ],
   "source": [
    "list_numbers = [1,2,3,7,9,10]\n",
    "list_odd_numbers = []\n",
    "for i in list_numbers:\n",
    "    if i % 2 == 0:\n",
    "        pass\n",
    "    else:\n",
    "        list_odd_numbers.append(i)\n",
    "print('The list without the even numbers is ',list_odd_numbers)"
   ]
  },
  {
   "cell_type": "markdown",
   "metadata": {},
   "source": [
    "## Exercise 3: Finding a value"
   ]
  },
  {
   "cell_type": "markdown",
   "metadata": {},
   "source": [
    "Write a code that finds a specific value from a list and stops the finding when it finds this value."
   ]
  },
  {
   "cell_type": "code",
   "execution_count": 9,
   "metadata": {},
   "outputs": [],
   "source": [
    "list_numbers = [1,2,3,7,9,10]\n",
    "number = int(input('What number are you looking for?'))\n",
    "for i in list_numbers:\n",
    "    if number == i:\n",
    "        print('We find the number you were looking for:', i)\n",
    "        break\n",
    "    else:\n",
    "        pass"
   ]
  },
  {
   "cell_type": "markdown",
   "metadata": {},
   "source": [
    "## Exercise 4: Incomplete code structure"
   ]
  },
  {
   "cell_type": "markdown",
   "metadata": {},
   "source": [
    "Define a function that doesnt have a logi implemented, but you can execute it withaut errors by using pass"
   ]
  },
  {
   "cell_type": "code",
   "execution_count": 10,
   "metadata": {},
   "outputs": [],
   "source": [
    "def function_incomplete():\n",
    "    pass"
   ]
  },
  {
   "cell_type": "code",
   "execution_count": 11,
   "metadata": {},
   "outputs": [],
   "source": [
    "function_incomplete()"
   ]
  },
  {
   "cell_type": "markdown",
   "metadata": {},
   "source": [
    "## Exercise 5: Conditional Validation"
   ]
  },
  {
   "cell_type": "markdown",
   "metadata": {},
   "source": [
    "Write a loop that verify a list of names. If it finds an empty name (\"\"), skip that iteration and continue with the other names "
   ]
  },
  {
   "cell_type": "code",
   "execution_count": 12,
   "metadata": {},
   "outputs": [
    {
     "name": "stdout",
     "output_type": "stream",
     "text": [
      "Peter\n",
      "Dustin\n",
      "Claire\n"
     ]
    }
   ],
   "source": [
    "list_names = ['Peter', 'Dustin', '', 'Claire']\n",
    "for i in list_names:\n",
    "    if i == '':\n",
    "        continue\n",
    "    else:\n",
    "        print(i)"
   ]
  },
  {
   "cell_type": "markdown",
   "metadata": {},
   "source": [
    "## Exercise 6: Searching keys in a dictionary"
   ]
  },
  {
   "cell_type": "markdown",
   "metadata": {},
   "source": [
    "Write a code that run a dictionary and stops the searching if it finds an specific key"
   ]
  },
  {
   "cell_type": "code",
   "execution_count": 17,
   "metadata": {},
   "outputs": [
    {
     "name": "stdout",
     "output_type": "stream",
     "text": [
      "We didnt find the key\n"
     ]
    }
   ],
   "source": [
    "mi_diccionario_ciclista = {\n",
    "    'nombre': 'Tadej Pogacar',\n",
    "    'edad': 26,\n",
    "    'País': 'Eslovenia',\n",
    "    'profesión': 'Team UAE'\n",
    "}\n",
    "key_2find = str(input('What key are you looking for'))\n",
    "for key, value in mi_diccionario_ciclista.items():\n",
    "    if key == key_2find:\n",
    "        print(f'key found: {key} -> {value}')\n",
    "        found = True\n",
    "        break\n",
    "    else:\n",
    "        found = False\n",
    "        pass\n",
    "if found != True:\n",
    "    print('We didnt find the key')"
   ]
  },
  {
   "cell_type": "markdown",
   "metadata": {},
   "source": [
    "## Exercise 7: Loop with multiple exceptions"
   ]
  },
  {
   "cell_type": "markdown",
   "metadata": {},
   "source": [
    "Write a loop that run a list of mathematical operations, but omit the operation that are going to divide by 0"
   ]
  },
  {
   "cell_type": "code",
   "execution_count": 20,
   "metadata": {},
   "outputs": [
    {
     "name": "stdout",
     "output_type": "stream",
     "text": [
      "2 + 0 = 2\n",
      "2 - 0 = 2\n",
      "2 x 0 = 0\n"
     ]
    }
   ],
   "source": [
    "list_operations = ['sum', 'rest', 'multiplication', 'division']\n",
    "a = int(input('First number: '))\n",
    "b = int(input('Second number: '))\n",
    "for i in list_operations:\n",
    "    if i == 'sum':\n",
    "        print(f'{a} + {b} = {a+b}')\n",
    "    elif i == 'rest':\n",
    "        print(f'{a} - {b} = {a-b}')\n",
    "    elif i == 'multiplication':\n",
    "        print(f'{a} x {b} = {a*b}')\n",
    "    else:\n",
    "        if b == 0:\n",
    "            continue\n",
    "        else:\n",
    "            print(f'{a} / {b} = {a/b}')"
   ]
  },
  {
   "cell_type": "markdown",
   "metadata": {},
   "source": [
    "## Exercise 8: Searching inside a nested list"
   ]
  },
  {
   "cell_type": "markdown",
   "metadata": {},
   "source": [
    "Write a code that runs inside a list of lists and stops when it found a value over 50"
   ]
  },
  {
   "cell_type": "code",
   "execution_count": 25,
   "metadata": {},
   "outputs": [
    {
     "name": "stdout",
     "output_type": "stream",
     "text": [
      "We found a value over 50:  59\n"
     ]
    }
   ],
   "source": [
    "nested_list = [[2, 15, 8], [18, 7, 32], [59, 11, 44],[20, 1, 34]]\n",
    "found = False\n",
    "for i in nested_list:\n",
    "    for j in i:\n",
    "        if j <= 50:\n",
    "            continue\n",
    "        else:\n",
    "            found = True\n",
    "            print('We found a value over 50: ',j)\n",
    "            break\n",
    "if found == False:\n",
    "    print('Every value of the list are >= 50')"
   ]
  },
  {
   "cell_type": "markdown",
   "metadata": {},
   "source": [
    "## Exercise 9: Time Series evolution"
   ]
  },
  {
   "cell_type": "markdown",
   "metadata": {},
   "source": [
    "Write a code that run a time series data list and stops if it found an outlier (a value over 100)"
   ]
  },
  {
   "cell_type": "code",
   "execution_count": 26,
   "metadata": {},
   "outputs": [
    {
     "name": "stdout",
     "output_type": "stream",
     "text": [
      "We found an atypical value:  102\n"
     ]
    }
   ],
   "source": [
    "time_series = [18, 82, 70, 51, 17, 102, 85, 25]\n",
    "for i in time_series:\n",
    "    if i < 100:\n",
    "        continue\n",
    "    else: \n",
    "        print('We found an atypical value: ',i)\n",
    "        break\n"
   ]
  },
  {
   "cell_type": "markdown",
   "metadata": {},
   "source": [
    "## Exercise 10: Null data iteration"
   ]
  },
  {
   "cell_type": "markdown",
   "metadata": {},
   "source": [
    "Create a loop that runs a data list of sales and skips the null data represents as None"
   ]
  },
  {
   "cell_type": "code",
   "execution_count": 29,
   "metadata": {},
   "outputs": [
    {
     "name": "stdout",
     "output_type": "stream",
     "text": [
      "There is a sale in the position 1: 120\n",
      "There is a sale in the position 2: 340\n",
      "There is a sale in the position 4: 560\n",
      "There is a sale in the position 5: 450\n",
      "There is a sale in the position 7: 780\n",
      "There is a sale in the position 8: 620\n",
      "There is a sale in the position 10: 910\n"
     ]
    }
   ],
   "source": [
    "sales_list = [120, 340, None, 560, 450, None, 780, 620, None, 910]\n",
    "for indice, sale in enumerate(sales_list):\n",
    "    if sale == None:\n",
    "        continue\n",
    "    print(f'There is a sale in the position {indice+1}: {sale}')"
   ]
  },
  {
   "cell_type": "markdown",
   "metadata": {},
   "source": [
    "## Exercise 11: Nested loops Control Flow"
   ]
  },
  {
   "cell_type": "markdown",
   "metadata": {},
   "source": [
    "Write a loop that runs the given matrix if you find a negative number showing its position"
   ]
  },
  {
   "cell_type": "code",
   "execution_count": 33,
   "metadata": {},
   "outputs": [
    {
     "name": "stdout",
     "output_type": "stream",
     "text": [
      "We found a negative number in the position (2,1): -5\n"
     ]
    }
   ],
   "source": [
    "matrix = [[6, 9, 8], [-5, 2, 14], [16, 7, 19]]\n",
    "for i, sublist in enumerate(matrix):\n",
    "    for j, value in enumerate(sublist):\n",
    "        if value < 0:\n",
    "            print(f'We found a negative number in the position ({i+1},{j+1}): {value}')\n",
    "            break"
   ]
  },
  {
   "cell_type": "markdown",
   "metadata": {},
   "source": [
    "## Exercise 12: Placeholder for incompleted functions"
   ]
  },
  {
   "cell_type": "markdown",
   "metadata": {},
   "source": [
    "Write a function that contains a control block that is not yet implemented, using pass to prevent errors"
   ]
  },
  {
   "cell_type": "code",
   "execution_count": 38,
   "metadata": {},
   "outputs": [],
   "source": [
    "def operations(operation, a, b):\n",
    "    if operation == 'sum':\n",
    "        print(f'{a} + {b} = {a+b}')\n",
    "    elif operation == 'rest':\n",
    "        print(f'{a} - {b} = {a-b}')\n",
    "    elif operation == 'multiplication':\n",
    "        print(f'{a} x {b} = {a*b}')\n",
    "    else:\n",
    "        pass"
   ]
  },
  {
   "cell_type": "code",
   "execution_count": 43,
   "metadata": {},
   "outputs": [
    {
     "name": "stdout",
     "output_type": "stream",
     "text": [
      "2 + 3 = 5\n",
      "1 - 3 = -2\n",
      "5 x 5 = 25\n"
     ]
    }
   ],
   "source": [
    "operations('sum',2,3)\n",
    "operations('rest',1,3)\n",
    "operations('multiplication',5,5)\n",
    "operations('division',1,2)"
   ]
  }
 ],
 "metadata": {
  "kernelspec": {
   "display_name": "Python 3",
   "language": "python",
   "name": "python3"
  },
  "language_info": {
   "codemirror_mode": {
    "name": "ipython",
    "version": 3
   },
   "file_extension": ".py",
   "mimetype": "text/x-python",
   "name": "python",
   "nbconvert_exporter": "python",
   "pygments_lexer": "ipython3",
   "version": "3.12.6"
  }
 },
 "nbformat": 4,
 "nbformat_minor": 2
}
